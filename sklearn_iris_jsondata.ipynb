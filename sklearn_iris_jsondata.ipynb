{
 "cells": [
  {
   "cell_type": "markdown",
   "metadata": {},
   "source": [
    "# Scikit-Learn IRIS Model using jsonData\n",
    "\n",
    "**Goal**: Wrap a scikit-learn python model for use as a prediction microservice in seldon-core\n",
    "\n",
    "#### Steps\n",
    "\n",
    "1. Run locally on Docker to test\n",
    "2. Deploy on seldon-core running on a kubernetes cluster"
   ]
  },
  {
   "cell_type": "markdown",
   "metadata": {},
   "source": [
    "#### Setup Python"
   ]
  },
  {
   "cell_type": "code",
   "execution_count": 56,
   "metadata": {
    "execution": {
     "iopub.execute_input": "2023-04-26T16:18:39.182814Z",
     "iopub.status.busy": "2023-04-26T16:18:39.181833Z",
     "iopub.status.idle": "2023-04-26T16:18:39.188081Z",
     "shell.execute_reply": "2023-04-26T16:18:39.187246Z",
     "shell.execute_reply.started": "2023-04-26T16:18:39.182777Z"
    },
    "scrolled": true,
    "tags": []
   },
   "outputs": [
    {
     "name": "stdout",
     "output_type": "stream",
     "text": [
      "Overwriting requirements.txt\n"
     ]
    }
   ],
   "source": [
    "%%writefile requirements.txt\n",
    "scikit-learn\n",
    "spacy\n",
    "dill\n",
    "pandas\n",
    "sklearn\n",
    "seldon-core\n",
    "pycurl"
   ]
  },
  {
   "cell_type": "code",
   "execution_count": 62,
   "metadata": {
    "execution": {
     "iopub.execute_input": "2023-04-26T16:20:11.314048Z",
     "iopub.status.busy": "2023-04-26T16:20:11.312829Z",
     "iopub.status.idle": "2023-04-26T16:20:12.051209Z",
     "shell.execute_reply": "2023-04-26T16:20:12.049604Z",
     "shell.execute_reply.started": "2023-04-26T16:20:11.313994Z"
    },
    "tags": []
   },
   "outputs": [],
   "source": [
    "!if [ ! -d \"./venv\" ]; then python -m venv venv; fi"
   ]
  },
  {
   "cell_type": "code",
   "execution_count": 63,
   "metadata": {
    "execution": {
     "iopub.execute_input": "2023-04-26T16:20:25.459885Z",
     "iopub.status.busy": "2023-04-26T16:20:25.459357Z",
     "iopub.status.idle": "2023-04-26T16:20:26.196919Z",
     "shell.execute_reply": "2023-04-26T16:20:26.195785Z",
     "shell.execute_reply.started": "2023-04-26T16:20:25.459850Z"
    },
    "tags": []
   },
   "outputs": [],
   "source": [
    "!source ./venv/bin/activate"
   ]
  },
  {
   "cell_type": "code",
   "execution_count": 65,
   "metadata": {
    "execution": {
     "iopub.execute_input": "2023-04-26T16:21:17.331869Z",
     "iopub.status.busy": "2023-04-26T16:21:17.330409Z",
     "iopub.status.idle": "2023-04-26T16:21:18.071287Z",
     "shell.execute_reply": "2023-04-26T16:21:18.069799Z",
     "shell.execute_reply.started": "2023-04-26T16:21:17.331804Z"
    },
    "tags": []
   },
   "outputs": [],
   "source": [
    "!if [ ! -d \"/home/jovyan/.config/pip\" ]; then mkdir /home/jovyan/.config/pip; fi"
   ]
  },
  {
   "cell_type": "code",
   "execution_count": 52,
   "metadata": {
    "execution": {
     "iopub.execute_input": "2023-04-26T16:12:03.484774Z",
     "iopub.status.busy": "2023-04-26T16:12:03.484046Z",
     "iopub.status.idle": "2023-04-26T16:12:03.497745Z",
     "shell.execute_reply": "2023-04-26T16:12:03.490001Z",
     "shell.execute_reply.started": "2023-04-26T16:12:03.484725Z"
    },
    "tags": []
   },
   "outputs": [
    {
     "name": "stdout",
     "output_type": "stream",
     "text": [
      "Overwriting /home/jovyan/.config/pip/pip.conf\n"
     ]
    }
   ],
   "source": [
    "%%writefile /home/jovyan/.config/pip/pip.conf\n",
    "[global]\n",
    "index-url = https://jfrog.aaw.cloud.statcan.ca/artifactory/api/pypi/pypi-remote/simple"
   ]
  },
  {
   "cell_type": "code",
   "execution_count": 35,
   "metadata": {
    "execution": {
     "iopub.execute_input": "2023-04-26T13:42:20.439635Z",
     "iopub.status.busy": "2023-04-26T13:42:20.439257Z",
     "iopub.status.idle": "2023-04-26T13:42:24.488711Z",
     "shell.execute_reply": "2023-04-26T13:42:24.487629Z",
     "shell.execute_reply.started": "2023-04-26T13:42:20.439604Z"
    },
    "tags": []
   },
   "outputs": [],
   "source": [
    "%%capture\n",
    "!pip install -r requirements.txt"
   ]
  },
  {
   "cell_type": "code",
   "execution_count": 15,
   "metadata": {
    "execution": {
     "iopub.execute_input": "2023-04-25T22:40:04.827670Z",
     "iopub.status.busy": "2023-04-25T22:40:04.826971Z",
     "iopub.status.idle": "2023-04-25T22:40:12.370082Z",
     "shell.execute_reply": "2023-04-25T22:40:12.368376Z",
     "shell.execute_reply.started": "2023-04-25T22:40:04.827634Z"
    },
    "tags": []
   },
   "outputs": [],
   "source": [
    "%%capture\n",
    "!python -m spacy download en_core_web_sm"
   ]
  },
  {
   "cell_type": "code",
   "execution_count": 16,
   "metadata": {
    "execution": {
     "iopub.execute_input": "2023-04-25T22:40:12.372103Z",
     "iopub.status.busy": "2023-04-25T22:40:12.371584Z",
     "iopub.status.idle": "2023-04-25T22:40:13.928190Z",
     "shell.execute_reply": "2023-04-25T22:40:13.927044Z",
     "shell.execute_reply.started": "2023-04-25T22:40:12.372068Z"
    },
    "tags": []
   },
   "outputs": [
    {
     "name": "stdout",
     "output_type": "stream",
     "text": [
      "Installed kernelspec sklearn_iris_jsondata in /etc/share/jupyter/kernels/sklearn_iris_jsondata\n"
     ]
    }
   ],
   "source": [
    "!python -m ipykernel install --user --name=sklearn_iris_jsondata"
   ]
  },
  {
   "cell_type": "markdown",
   "metadata": {},
   "source": [
    "## Setup Seldon Core\n",
    "\n",
    "Use the setup notebook to [Setup Cluster](https://docs.seldon.io/projects/seldon-core/en/latest/examples/seldon_core_setup.html) to setup Seldon Core with an ingress - either Ambassador or Istio.\n",
    "\n",
    "Then port-forward to that ingress on localhost:8003 in a separate terminal either with:\n",
    "\n",
    "```\n",
    "kubectl port-forward $(kubectl get pods -l istio=ingressgateway -n istio-system -o jsonpath='{.items[0].metadata.name}') -n istio-system 8003:80\n",
    "```"
   ]
  },
  {
   "cell_type": "markdown",
   "metadata": {},
   "source": [
    "Create a seldon config file to deploy the containerized image you just created"
   ]
  },
  {
   "cell_type": "code",
   "execution_count": 72,
   "metadata": {
    "execution": {
     "iopub.execute_input": "2023-04-26T18:20:15.644492Z",
     "iopub.status.busy": "2023-04-26T18:20:15.643729Z",
     "iopub.status.idle": "2023-04-26T18:20:15.650424Z",
     "shell.execute_reply": "2023-04-26T18:20:15.649679Z",
     "shell.execute_reply.started": "2023-04-26T18:20:15.644453Z"
    },
    "tags": []
   },
   "outputs": [
    {
     "name": "stdout",
     "output_type": "stream",
     "text": [
      "Overwriting sklearn_iris_jsondata_deployment.yaml\n"
     ]
    }
   ],
   "source": [
    "%%writefile sklearn_iris_jsondata_deployment.yaml\n",
    "apiVersion: machinelearning.seldon.io/v1alpha2\n",
    "kind: SeldonDeployment\n",
    "metadata:\n",
    "  name: seldon-deployment-example\n",
    "  namespace: bryanpaget\n",
    "spec:\n",
    "  name: sklearn-iris-deployment\n",
    "  annotations:\n",
    "    sidecar.istio.io/inject: \"false\"\n",
    "  predictors:\n",
    "  - componentSpecs:\n",
    "    - spec:\n",
    "        containers:\n",
    "        - image: seldonio/sklearn-iris:0.3\n",
    "          imagePullPolicy: IfNotPresent\n",
    "          name: sklearn-iris-classifier\n",
    "    graph:\n",
    "      children: []\n",
    "      endpoint:\n",
    "        type: REST\n",
    "      name: sklearn-iris-classifier\n",
    "      type: MODEL\n",
    "    name: sklearn-iris-predictor\n",
    "    replicas: 1"
   ]
  },
  {
   "cell_type": "code",
   "execution_count": 73,
   "metadata": {
    "execution": {
     "iopub.execute_input": "2023-04-26T18:20:16.216640Z",
     "iopub.status.busy": "2023-04-26T18:20:16.215662Z",
     "iopub.status.idle": "2023-04-26T18:20:20.404188Z",
     "shell.execute_reply": "2023-04-26T18:20:20.403093Z",
     "shell.execute_reply.started": "2023-04-26T18:20:16.216601Z"
    },
    "tags": []
   },
   "outputs": [
    {
     "name": "stdout",
     "output_type": "stream",
     "text": [
      "seldondeployment.machinelearning.seldon.io/seldon-deployment-example created\n"
     ]
    }
   ],
   "source": [
    "!kubectl create -f sklearn_iris_jsondata_deployment.yaml"
   ]
  },
  {
   "cell_type": "code",
   "execution_count": 74,
   "metadata": {
    "execution": {
     "iopub.execute_input": "2023-04-26T18:20:20.406352Z",
     "iopub.status.busy": "2023-04-26T18:20:20.406028Z",
     "iopub.status.idle": "2023-04-26T18:20:45.280699Z",
     "shell.execute_reply": "2023-04-26T18:20:45.279481Z",
     "shell.execute_reply.started": "2023-04-26T18:20:20.406322Z"
    },
    "tags": []
   },
   "outputs": [
    {
     "name": "stdout",
     "output_type": "stream",
     "text": [
      "Waiting for deployment \"seldon-92a927e5e90d7602e08ba9b9304f70e8\" rollout to finish: 0 out of 1 new replicas have been updated...\n",
      "Waiting for deployment \"seldon-92a927e5e90d7602e08ba9b9304f70e8\" rollout to finish: 0 of 1 updated replicas are available...\n",
      "deployment \"seldon-92a927e5e90d7602e08ba9b9304f70e8\" successfully rolled out\n"
     ]
    }
   ],
   "source": [
    "!kubectl rollout status deploy $(kubectl get deploy -l seldon-deployment-id=seldon-deployment-example -o jsonpath='{.items[0].metadata.name}')"
   ]
  },
  {
   "cell_type": "markdown",
   "metadata": {},
   "source": [
    "### Test by sending prediction calls"
   ]
  },
  {
   "cell_type": "markdown",
   "metadata": {},
   "source": [
    "jsonData sent as json"
   ]
  },
  {
   "cell_type": "code",
   "execution_count": 86,
   "metadata": {
    "execution": {
     "iopub.execute_input": "2023-04-26T18:37:01.256670Z",
     "iopub.status.busy": "2023-04-26T18:37:01.255445Z",
     "iopub.status.idle": "2023-04-26T18:37:01.488163Z",
     "shell.execute_reply": "2023-04-26T18:37:01.486933Z",
     "shell.execute_reply.started": "2023-04-26T18:37:01.256622Z"
    },
    "tags": []
   },
   "outputs": [
    {
     "name": "stdout",
     "output_type": "stream",
     "text": [
      "Available\n"
     ]
    }
   ],
   "source": [
    "for i in range(60):\n",
    "    state = !kubectl get sdep seldon-deployment-example -o jsonpath='{.status.state}'\n",
    "    state = state[0]\n",
    "    print(state)\n",
    "    if state == \"Available\":\n",
    "        break\n",
    "    time.sleep(1)\n",
    "assert state == \"Available\""
   ]
  },
  {
   "cell_type": "code",
   "execution_count": 87,
   "metadata": {
    "execution": {
     "iopub.execute_input": "2023-04-26T18:37:03.679813Z",
     "iopub.status.busy": "2023-04-26T18:37:03.678722Z",
     "iopub.status.idle": "2023-04-26T18:37:03.702131Z",
     "shell.execute_reply": "2023-04-26T18:37:03.701014Z",
     "shell.execute_reply.started": "2023-04-26T18:37:03.679755Z"
    },
    "tags": []
   },
   "outputs": [],
   "source": [
    "res = !curl -s http://localhost:8003/seldon/seldon/seldon-deployment-example/api/v0.1/predictions -H \"Content-Type: application/json\" -d '{\"some_data\": {\"names\": [\"sepal_length\",\"sepal_width\",\"petal_length\",\"petal_width\"],\"some_ndarray\": [[7.233,4.652,7.39,0.324]]}}'"
   ]
  },
  {
   "cell_type": "code",
   "execution_count": 88,
   "metadata": {
    "execution": {
     "iopub.execute_input": "2023-04-26T18:37:04.738494Z",
     "iopub.status.busy": "2023-04-26T18:37:04.737828Z",
     "iopub.status.idle": "2023-04-26T18:37:04.743355Z",
     "shell.execute_reply": "2023-04-26T18:37:04.742482Z",
     "shell.execute_reply.started": "2023-04-26T18:37:04.738454Z"
    },
    "tags": []
   },
   "outputs": [
    {
     "name": "stdout",
     "output_type": "stream",
     "text": [
      "[]\n"
     ]
    }
   ],
   "source": [
    "print(res)"
   ]
  },
  {
   "cell_type": "markdown",
   "metadata": {},
   "source": [
    "jsonData sent as form-data"
   ]
  },
  {
   "cell_type": "code",
   "execution_count": 71,
   "metadata": {
    "execution": {
     "iopub.execute_input": "2023-04-26T16:47:34.394816Z",
     "iopub.status.busy": "2023-04-26T16:47:34.393867Z",
     "iopub.status.idle": "2023-04-26T16:47:35.300717Z",
     "shell.execute_reply": "2023-04-26T16:47:35.299590Z",
     "shell.execute_reply.started": "2023-04-26T16:47:34.394782Z"
    },
    "tags": []
   },
   "outputs": [
    {
     "name": "stdout",
     "output_type": "stream",
     "text": [
      "seldondeployment.machinelearning.seldon.io \"seldon-deployment-example\" deleted\n"
     ]
    }
   ],
   "source": [
    "!kubectl delete -f sklearn_iris_jsondata_deployment.yaml"
   ]
  },
  {
   "cell_type": "code",
   "execution_count": null,
   "metadata": {},
   "outputs": [],
   "source": []
  }
 ],
 "metadata": {
  "kernelspec": {
   "display_name": "sklearn_iris_jsondata",
   "language": "python",
   "name": "sklearn_iris_jsondata"
  },
  "language_info": {
   "codemirror_mode": {
    "name": "ipython",
    "version": 3
   },
   "file_extension": ".py",
   "mimetype": "text/x-python",
   "name": "python",
   "nbconvert_exporter": "python",
   "pygments_lexer": "ipython3",
   "version": "3.9.13"
  },
  "varInspector": {
   "cols": {
    "lenName": 16,
    "lenType": 16,
    "lenVar": 40
   },
   "kernels_config": {
    "python": {
     "delete_cmd_postfix": "",
     "delete_cmd_prefix": "del ",
     "library": "var_list.py",
     "varRefreshCmd": "print(var_dic_list())"
    },
    "r": {
     "delete_cmd_postfix": ") ",
     "delete_cmd_prefix": "rm(",
     "library": "var_list.r",
     "varRefreshCmd": "cat(var_dic_list()) "
    }
   },
   "types_to_exclude": [
    "module",
    "function",
    "builtin_function_or_method",
    "instance",
    "_Feature"
   ],
   "window_display": false
  }
 },
 "nbformat": 4,
 "nbformat_minor": 4
}
