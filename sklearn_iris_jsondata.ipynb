{
 "cells": [
  {
   "cell_type": "markdown",
   "metadata": {},
   "source": [
    "# Scikit-Learn IRIS Model using jsonData\n",
    "\n",
    "**Goal**: Wrap a scikit-learn python model for use as a prediction microservice in seldon-core\n",
    "\n",
    "#### Steps\n",
    "\n",
    "1. Run locally on Docker to test\n",
    "2. Deploy on seldon-core running on a kubernetes cluster"
   ]
  },
  {
   "cell_type": "markdown",
   "metadata": {},
   "source": [
    "### Setup Python"
   ]
  },
  {
   "cell_type": "code",
   "execution_count": 33,
   "metadata": {
    "execution": {
     "iopub.execute_input": "2023-04-26T13:42:07.948187Z",
     "iopub.status.busy": "2023-04-26T13:42:07.947306Z",
     "iopub.status.idle": "2023-04-26T13:42:07.953390Z",
     "shell.execute_reply": "2023-04-26T13:42:07.952689Z",
     "shell.execute_reply.started": "2023-04-26T13:42:07.948151Z"
    },
    "scrolled": true,
    "tags": []
   },
   "outputs": [
    {
     "name": "stdout",
     "output_type": "stream",
     "text": [
      "Overwriting requirements.txt\n"
     ]
    }
   ],
   "source": [
    "%%writefile requirements.txt\n",
    "scikit-learn\n",
    "spacy\n",
    "dill\n",
    "pandas\n",
    "sklearn\n",
    "seldon-core\n",
    "pycurl"
   ]
  },
  {
   "cell_type": "code",
   "execution_count": 10,
   "metadata": {
    "execution": {
     "iopub.execute_input": "2023-04-25T22:38:50.851751Z",
     "iopub.status.busy": "2023-04-25T22:38:50.850985Z",
     "iopub.status.idle": "2023-04-25T22:38:53.773340Z",
     "shell.execute_reply": "2023-04-25T22:38:53.771686Z",
     "shell.execute_reply.started": "2023-04-25T22:38:50.851715Z"
    },
    "tags": []
   },
   "outputs": [],
   "source": [
    "!python -m venv venv"
   ]
  },
  {
   "cell_type": "code",
   "execution_count": 34,
   "metadata": {
    "execution": {
     "iopub.execute_input": "2023-04-26T13:42:10.074124Z",
     "iopub.status.busy": "2023-04-26T13:42:10.073585Z",
     "iopub.status.idle": "2023-04-26T13:42:10.757294Z",
     "shell.execute_reply": "2023-04-26T13:42:10.756016Z",
     "shell.execute_reply.started": "2023-04-26T13:42:10.074086Z"
    },
    "tags": []
   },
   "outputs": [],
   "source": [
    "!source ./venv/bin/activate"
   ]
  },
  {
   "cell_type": "code",
   "execution_count": 12,
   "metadata": {
    "execution": {
     "iopub.execute_input": "2023-04-25T22:38:54.535458Z",
     "iopub.status.busy": "2023-04-25T22:38:54.535158Z",
     "iopub.status.idle": "2023-04-25T22:38:55.246102Z",
     "shell.execute_reply": "2023-04-25T22:38:55.244455Z",
     "shell.execute_reply.started": "2023-04-25T22:38:54.535428Z"
    },
    "tags": []
   },
   "outputs": [
    {
     "name": "stdout",
     "output_type": "stream",
     "text": [
      "mkdir: cannot create directory ‘/home/jovyan/.config/pip’: File exists\n"
     ]
    }
   ],
   "source": [
    "!mkdir /home/jovyan/.config/pip"
   ]
  },
  {
   "cell_type": "code",
   "execution_count": 13,
   "metadata": {
    "execution": {
     "iopub.execute_input": "2023-04-25T22:38:55.249124Z",
     "iopub.status.busy": "2023-04-25T22:38:55.248301Z",
     "iopub.status.idle": "2023-04-25T22:38:55.254619Z",
     "shell.execute_reply": "2023-04-25T22:38:55.253669Z",
     "shell.execute_reply.started": "2023-04-25T22:38:55.249088Z"
    },
    "tags": []
   },
   "outputs": [
    {
     "name": "stdout",
     "output_type": "stream",
     "text": [
      "Overwriting /home/jovyan/.config/pip/pip.conf\n"
     ]
    }
   ],
   "source": [
    "%%writefile /home/jovyan/.config/pip/pip.conf\n",
    "[global]\n",
    "index-url = https://jfrog.aaw.cloud.statcan.ca/artifactory/api/pypi/pypi-remote/simple"
   ]
  },
  {
   "cell_type": "code",
   "execution_count": 35,
   "metadata": {
    "execution": {
     "iopub.execute_input": "2023-04-26T13:42:20.439635Z",
     "iopub.status.busy": "2023-04-26T13:42:20.439257Z",
     "iopub.status.idle": "2023-04-26T13:42:24.488711Z",
     "shell.execute_reply": "2023-04-26T13:42:24.487629Z",
     "shell.execute_reply.started": "2023-04-26T13:42:20.439604Z"
    },
    "tags": []
   },
   "outputs": [],
   "source": [
    "%%capture\n",
    "!pip install -r requirements.txt"
   ]
  },
  {
   "cell_type": "code",
   "execution_count": 15,
   "metadata": {
    "execution": {
     "iopub.execute_input": "2023-04-25T22:40:04.827670Z",
     "iopub.status.busy": "2023-04-25T22:40:04.826971Z",
     "iopub.status.idle": "2023-04-25T22:40:12.370082Z",
     "shell.execute_reply": "2023-04-25T22:40:12.368376Z",
     "shell.execute_reply.started": "2023-04-25T22:40:04.827634Z"
    },
    "tags": []
   },
   "outputs": [],
   "source": [
    "%%capture\n",
    "!python -m spacy download en_core_web_sm"
   ]
  },
  {
   "cell_type": "code",
   "execution_count": 16,
   "metadata": {
    "execution": {
     "iopub.execute_input": "2023-04-25T22:40:12.372103Z",
     "iopub.status.busy": "2023-04-25T22:40:12.371584Z",
     "iopub.status.idle": "2023-04-25T22:40:13.928190Z",
     "shell.execute_reply": "2023-04-25T22:40:13.927044Z",
     "shell.execute_reply.started": "2023-04-25T22:40:12.372068Z"
    },
    "tags": []
   },
   "outputs": [
    {
     "name": "stdout",
     "output_type": "stream",
     "text": [
      "Installed kernelspec sklearn_iris_jsondata in /etc/share/jupyter/kernels/sklearn_iris_jsondata\n"
     ]
    }
   ],
   "source": [
    "!python -m ipykernel install --user --name=sklearn_iris_jsondata"
   ]
  },
  {
   "cell_type": "markdown",
   "metadata": {},
   "source": [
    "## Setup Seldon Core\n",
    "\n",
    "Use the setup notebook to [Setup Cluster](https://docs.seldon.io/projects/seldon-core/en/latest/examples/seldon_core_setup.html) to setup Seldon Core with an ingress - either Ambassador or Istio.\n",
    "\n",
    "Then port-forward to that ingress on localhost:8003 in a separate terminal either with:\n",
    "\n",
    " * Ambassador: `kubectl port-forward $(kubectl get pods -n seldon -l app.kubernetes.io/name=ambassador -o jsonpath='{.items[0].metadata.name}') -n seldon 8003:8080`\n",
    " * Istio: `kubectl port-forward $(kubectl get pods -l istio=ingressgateway -n istio-system -o jsonpath='{.items[0].metadata.name}') -n istio-system 8003:80`"
   ]
  },
  {
   "cell_type": "code",
   "execution_count": 1,
   "metadata": {
    "collapsed": true,
    "execution": {
     "iopub.execute_input": "2023-04-25T22:27:45.679710Z",
     "iopub.status.busy": "2023-04-25T22:27:45.678818Z",
     "iopub.status.idle": "2023-04-25T22:27:48.577524Z",
     "shell.execute_reply": "2023-04-25T22:27:48.576479Z",
     "shell.execute_reply.started": "2023-04-25T22:27:45.679666Z"
    },
    "jupyter": {
     "outputs_hidden": true
    },
    "tags": []
   },
   "outputs": [
    {
     "name": "stdout",
     "output_type": "stream",
     "text": [
      "error: error executing jsonpath \"{.items[0].metadata.name}\": Error executing template: array index out of bounds: index 0, length 0. Printing more information for debugging the template:\n",
      "\ttemplate was:\n",
      "\t\t{.items[0].metadata.name}\n",
      "\tobject given to jsonpath engine was:\n",
      "\t\tmap[string]interface {}{\"apiVersion\":\"v1\", \"items\":[]interface {}{}, \"kind\":\"List\", \"metadata\":map[string]interface {}{\"resourceVersion\":\"\", \"selfLink\":\"\"}}\n",
      "\n",
      "\n",
      "error: TYPE/NAME and list of ports are required for port-forward\n",
      "See 'kubectl port-forward -h' for help and examples\n"
     ]
    }
   ],
   "source": [
    "# we use istio\n",
    "#!kubectl port-forward $(kubectl get pods -n seldon -l app.kubernetes.io/name=ambassador -o jsonpath='{.items[0].metadata.name}') -n seldon 8003:8080"
   ]
  },
  {
   "cell_type": "code",
   "execution_count": 42,
   "metadata": {
    "execution": {
     "iopub.execute_input": "2023-04-26T13:54:19.159466Z",
     "iopub.status.busy": "2023-04-26T13:54:19.158919Z",
     "iopub.status.idle": "2023-04-26T13:54:22.177978Z",
     "shell.execute_reply": "2023-04-26T13:54:22.176758Z",
     "shell.execute_reply.started": "2023-04-26T13:54:19.159437Z"
    },
    "tags": []
   },
   "outputs": [
    {
     "name": "stdout",
     "output_type": "stream",
     "text": [
      "Error from server (Forbidden): pods is forbidden: User \"system:serviceaccount:bryanpaget:default-editor\" cannot list resource \"pods\" in API group \"\" in the namespace \"istio-system\"\n",
      "error executing jsonpath \"{.items[0].metadata.name}\": Error executing template: array index out of bounds: index 0, length 0. Printing more information for debugging the template:\n",
      "\ttemplate was:\n",
      "\t\t{.items[0].metadata.name}\n",
      "\tobject given to jsonpath engine was:\n",
      "\t\tmap[string]interface {}{\"apiVersion\":\"v1\", \"items\":[]interface {}{}, \"kind\":\"List\", \"metadata\":map[string]interface {}{\"resourceVersion\":\"\", \"selfLink\":\"\"}}\n",
      "\n",
      "\n",
      "\n",
      "error: TYPE/NAME and list of ports are required for port-forward\n",
      "See 'kubectl port-forward -h' for help and examples\n"
     ]
    }
   ],
   "source": [
    "!kubectl port-forward $(kubectl get pods -l istio=ingressgateway -n istio-system -o jsonpath='{.items[0].metadata.name}') -n istio-system 8003:80"
   ]
  },
  {
   "cell_type": "code",
   "execution_count": 31,
   "metadata": {
    "execution": {
     "iopub.execute_input": "2023-04-26T13:22:57.941516Z",
     "iopub.status.busy": "2023-04-26T13:22:57.940992Z",
     "iopub.status.idle": "2023-04-26T13:22:57.950538Z",
     "shell.execute_reply": "2023-04-26T13:22:57.947875Z",
     "shell.execute_reply.started": "2023-04-26T13:22:57.941471Z"
    },
    "tags": []
   },
   "outputs": [],
   "source": [
    "#!kubectl create namespace seldon\n",
    "# I'll use my namespace, bryanpaget"
   ]
  },
  {
   "cell_type": "code",
   "execution_count": 30,
   "metadata": {
    "execution": {
     "iopub.execute_input": "2023-04-26T13:20:56.490870Z",
     "iopub.status.busy": "2023-04-26T13:20:56.490304Z",
     "iopub.status.idle": "2023-04-26T13:20:57.351444Z",
     "shell.execute_reply": "2023-04-26T13:20:57.350066Z",
     "shell.execute_reply.started": "2023-04-26T13:20:56.490833Z"
    },
    "tags": []
   },
   "outputs": [
    {
     "name": "stdout",
     "output_type": "stream",
     "text": [
      "error: current-context is not set\n",
      "error: you must specify a non-empty context name or --current\n"
     ]
    }
   ],
   "source": [
    "# not necessary on dev\n",
    "#!kubectl config set-context $(kubectl config current-context) --namespace=bryanpaget"
   ]
  },
  {
   "cell_type": "markdown",
   "metadata": {},
   "source": [
    "Create a seldon config file to deploy the containerized image you just created"
   ]
  },
  {
   "cell_type": "code",
   "execution_count": 37,
   "metadata": {
    "execution": {
     "iopub.execute_input": "2023-04-26T13:42:37.845678Z",
     "iopub.status.busy": "2023-04-26T13:42:37.843910Z",
     "iopub.status.idle": "2023-04-26T13:42:37.851497Z",
     "shell.execute_reply": "2023-04-26T13:42:37.850622Z",
     "shell.execute_reply.started": "2023-04-26T13:42:37.845624Z"
    },
    "tags": []
   },
   "outputs": [
    {
     "name": "stdout",
     "output_type": "stream",
     "text": [
      "Overwriting sklearn_iris_jsondata_deployment.yaml\n"
     ]
    }
   ],
   "source": [
    "%%writefile sklearn_iris_jsondata_deployment.yaml\n",
    "apiVersion: machinelearning.seldon.io/v1alpha2\n",
    "kind: SeldonDeployment\n",
    "metadata:\n",
    "  name: seldon-deployment-example-3\n",
    "  namespace: bryanpaget\n",
    "spec:\n",
    "  name: sklearn-iris-deployment\n",
    "  annotations:\n",
    "    sidecar.istio.io/inject: \"false\"\n",
    "  predictors:\n",
    "  - componentSpecs:\n",
    "    - spec:\n",
    "        containers:\n",
    "        - image: seldonio/sklearn-iris:0.3\n",
    "          imagePullPolicy: IfNotPresent\n",
    "          name: sklearn-iris-classifier\n",
    "    graph:\n",
    "      children: []\n",
    "      endpoint:\n",
    "        type: REST\n",
    "      name: sklearn-iris-classifier\n",
    "      type: MODEL\n",
    "    name: sklearn-iris-predictor\n",
    "    replicas: 1"
   ]
  },
  {
   "cell_type": "code",
   "execution_count": 38,
   "metadata": {
    "execution": {
     "iopub.execute_input": "2023-04-26T13:42:40.586811Z",
     "iopub.status.busy": "2023-04-26T13:42:40.586203Z",
     "iopub.status.idle": "2023-04-26T13:42:44.109725Z",
     "shell.execute_reply": "2023-04-26T13:42:44.108572Z",
     "shell.execute_reply.started": "2023-04-26T13:42:40.586781Z"
    },
    "tags": []
   },
   "outputs": [
    {
     "name": "stdout",
     "output_type": "stream",
     "text": [
      "seldondeployment.machinelearning.seldon.io/seldon-deployment-example-3 created\n"
     ]
    }
   ],
   "source": [
    "!kubectl create -f sklearn_iris_jsondata_deployment.yaml"
   ]
  },
  {
   "cell_type": "code",
   "execution_count": 39,
   "metadata": {
    "execution": {
     "iopub.execute_input": "2023-04-26T13:42:44.112064Z",
     "iopub.status.busy": "2023-04-26T13:42:44.111505Z",
     "iopub.status.idle": "2023-04-26T13:42:45.347940Z",
     "shell.execute_reply": "2023-04-26T13:42:45.346726Z",
     "shell.execute_reply.started": "2023-04-26T13:42:44.112033Z"
    },
    "tags": []
   },
   "outputs": [
    {
     "name": "stdout",
     "output_type": "stream",
     "text": [
      "deployment \"seldon-92a927e5e90d7602e08ba9b9304f70e8\" successfully rolled out\n"
     ]
    }
   ],
   "source": [
    "!kubectl rollout status deploy/$(kubectl get deploy -l seldon-deployment-id=seldon-deployment-example -o jsonpath='{.items[0].metadata.name}')"
   ]
  },
  {
   "cell_type": "markdown",
   "metadata": {},
   "source": [
    "### Test by sending prediction calls"
   ]
  },
  {
   "cell_type": "markdown",
   "metadata": {},
   "source": [
    "jsonData sent as json"
   ]
  },
  {
   "cell_type": "code",
   "execution_count": 41,
   "metadata": {
    "execution": {
     "iopub.execute_input": "2023-04-26T13:43:06.681015Z",
     "iopub.status.busy": "2023-04-26T13:43:06.679867Z",
     "iopub.status.idle": "2023-04-26T13:43:06.702148Z",
     "shell.execute_reply": "2023-04-26T13:43:06.701204Z",
     "shell.execute_reply.started": "2023-04-26T13:43:06.680968Z"
    },
    "tags": []
   },
   "outputs": [
    {
     "ename": "error",
     "evalue": "(7, 'Failed to connect to localhost port 8003 after 0 ms: Connection refused')",
     "output_type": "error",
     "traceback": [
      "\u001b[0;31m---------------------------------------------------------------------------\u001b[0m",
      "\u001b[0;31merror\u001b[0m                                     Traceback (most recent call last)",
      "Cell \u001b[0;32mIn [41], line 31\u001b[0m\n\u001b[1;32m     28\u001b[0m c\u001b[38;5;241m.\u001b[39msetopt(c\u001b[38;5;241m.\u001b[39mPOSTFIELDS, postfields)\n\u001b[1;32m     30\u001b[0m \u001b[38;5;66;03m# perform file transfer\u001b[39;00m\n\u001b[0;32m---> 31\u001b[0m \u001b[43mc\u001b[49m\u001b[38;5;241;43m.\u001b[39;49m\u001b[43mperform\u001b[49m\u001b[43m(\u001b[49m\u001b[43m)\u001b[49m\n\u001b[1;32m     33\u001b[0m \u001b[38;5;66;03m# Ending the session and freeing the resources\u001b[39;00m\n\u001b[1;32m     34\u001b[0m c\u001b[38;5;241m.\u001b[39mclose()\n",
      "\u001b[0;31merror\u001b[0m: (7, 'Failed to connect to localhost port 8003 after 0 ms: Connection refused')"
     ]
    }
   ],
   "source": [
    "import json\n",
    "import pycurl\n",
    "import requests\n",
    "from urllib.parse import urlencode\n",
    "\n",
    "\n",
    "c = pycurl.Curl()\n",
    "c.setopt(c.URL, \"http://localhost:8003/seldon/seldon/seldon-deployment-example/api/v0.1/predictions\")\n",
    "\n",
    "post_data = {\"jsonData\": {\n",
    "    \"measurements\": {\n",
    "        \"names\": [\"sepal_length\",\n",
    "                  \"sepal_width\",\n",
    "                  \"petal_length\",\n",
    "                  \"petal_width\"],\n",
    "        \"values\": [[\n",
    "            7.233,\n",
    "            4.652,\n",
    "            7.39,\n",
    "            0.324]]\n",
    "    }\n",
    "}}\n",
    "\n",
    "# encoding the string to be used as a query\n",
    "postfields = urlencode(post_data)\n",
    "\n",
    "# setting the cURL for POST operation\n",
    "c.setopt(c.POSTFIELDS, postfields)\n",
    "\n",
    "# perform file transfer\n",
    "c.perform()\n",
    "\n",
    "# Ending the session and freeing the resources\n",
    "c.close()\n",
    "\n",
    "print('Response Code: %d' % c.getinfo(c.RESPONSE_CODE))"
   ]
  },
  {
   "cell_type": "code",
   "execution_count": 7,
   "metadata": {
    "execution": {
     "iopub.execute_input": "2023-04-25T22:28:43.271432Z",
     "iopub.status.busy": "2023-04-25T22:28:43.270429Z",
     "iopub.status.idle": "2023-04-25T22:28:44.054805Z",
     "shell.execute_reply": "2023-04-25T22:28:44.053589Z",
     "shell.execute_reply.started": "2023-04-25T22:28:43.271392Z"
    },
    "tags": []
   },
   "outputs": [
    {
     "ename": "TypeError",
     "evalue": "the JSON object must be str, bytes or bytearray, not SList",
     "output_type": "error",
     "traceback": [
      "\u001b[0;31m---------------------------------------------------------------------------\u001b[0m",
      "\u001b[0;31mTypeError\u001b[0m                                 Traceback (most recent call last)",
      "Cell \u001b[0;32mIn [8], line 5\u001b[0m\n\u001b[1;32m      1\u001b[0m \u001b[38;5;28;01mimport\u001b[39;00m \u001b[38;5;21;01mjson\u001b[39;00m\n\u001b[1;32m      3\u001b[0m res\u001b[38;5;241m=\u001b[39mget_ipython()\u001b[38;5;241m.\u001b[39mgetoutput(\u001b[38;5;124m'\u001b[39m\u001b[38;5;124mcurl -s -H \u001b[39m\u001b[38;5;124m\"\u001b[39m\u001b[38;5;124mContent-Type: application/json\u001b[39m\u001b[38;5;124m\"\u001b[39m\u001b[38;5;124m      -d \u001b[39m\u001b[38;5;130;01m\\'\u001b[39;00m\u001b[38;5;124m{\u001b[39m\u001b[38;5;124m\"\u001b[39m\u001b[38;5;124mjsonData\u001b[39m\u001b[38;5;124m\"\u001b[39m\u001b[38;5;124m: \u001b[39m\u001b[38;5;124m{\u001b[39m\u001b[38;5;124m\"\u001b[39m\u001b[38;5;124msome_data\u001b[39m\u001b[38;5;124m\"\u001b[39m\u001b[38;5;124m: \u001b[39m\u001b[38;5;124m{\u001b[39m\u001b[38;5;124m\"\u001b[39m\u001b[38;5;124mnames\u001b[39m\u001b[38;5;124m\"\u001b[39m\u001b[38;5;124m: [\u001b[39m\u001b[38;5;124m\"\u001b[39m\u001b[38;5;124msepal_length\u001b[39m\u001b[38;5;124m\"\u001b[39m\u001b[38;5;124m,\u001b[39m\u001b[38;5;124m\"\u001b[39m\u001b[38;5;124msepal_width\u001b[39m\u001b[38;5;124m\"\u001b[39m\u001b[38;5;124m,\u001b[39m\u001b[38;5;124m\"\u001b[39m\u001b[38;5;124mpetal_length\u001b[39m\u001b[38;5;124m\"\u001b[39m\u001b[38;5;124m,\u001b[39m\u001b[38;5;124m\"\u001b[39m\u001b[38;5;124mpetal_width\u001b[39m\u001b[38;5;124m\"\u001b[39m\u001b[38;5;124m],\u001b[39m\u001b[38;5;124m\"\u001b[39m\u001b[38;5;124msome_ndarray\u001b[39m\u001b[38;5;124m\"\u001b[39m\u001b[38;5;124m: [[7.233,4.652,7.39,0.324]]}}}\u001b[39m\u001b[38;5;130;01m\\'\u001b[39;00m\u001b[38;5;124m      \u001b[39m\u001b[38;5;124m\"\u001b[39m\u001b[38;5;124mhttp://localhost:8003/seldon/seldon/seldon-deployment-example/api/v0.1/predictions\u001b[39m\u001b[38;5;124m\"\u001b[39m\u001b[38;5;124m'\u001b[39m)\n\u001b[0;32m----> 5\u001b[0m j\u001b[38;5;241m=\u001b[39m\u001b[43mjson\u001b[49m\u001b[38;5;241;43m.\u001b[39;49m\u001b[43mloads\u001b[49m\u001b[43m(\u001b[49m\u001b[43mres\u001b[49m\u001b[43m)\u001b[49m\n\u001b[1;32m      7\u001b[0m \u001b[38;5;28mprint\u001b[39m(j)\n\u001b[1;32m      9\u001b[0m \u001b[38;5;28;01massert\u001b[39;00m(j[\u001b[38;5;124m\"\u001b[39m\u001b[38;5;124mdata\u001b[39m\u001b[38;5;124m\"\u001b[39m][\u001b[38;5;124m\"\u001b[39m\u001b[38;5;124mtensor\u001b[39m\u001b[38;5;124m\"\u001b[39m][\u001b[38;5;124m\"\u001b[39m\u001b[38;5;124mvalues\u001b[39m\u001b[38;5;124m\"\u001b[39m][\u001b[38;5;241m1\u001b[39m]\u001b[38;5;241m>\u001b[39m\u001b[38;5;241m0.0\u001b[39m)\n",
      "File \u001b[0;32m/opt/conda/lib/python3.9/json/__init__.py:339\u001b[0m, in \u001b[0;36mloads\u001b[0;34m(s, cls, object_hook, parse_float, parse_int, parse_constant, object_pairs_hook, **kw)\u001b[0m\n\u001b[1;32m    337\u001b[0m \u001b[38;5;28;01melse\u001b[39;00m:\n\u001b[1;32m    338\u001b[0m     \u001b[38;5;28;01mif\u001b[39;00m \u001b[38;5;129;01mnot\u001b[39;00m \u001b[38;5;28misinstance\u001b[39m(s, (\u001b[38;5;28mbytes\u001b[39m, \u001b[38;5;28mbytearray\u001b[39m)):\n\u001b[0;32m--> 339\u001b[0m         \u001b[38;5;28;01mraise\u001b[39;00m \u001b[38;5;167;01mTypeError\u001b[39;00m(\u001b[38;5;124mf\u001b[39m\u001b[38;5;124m'\u001b[39m\u001b[38;5;124mthe JSON object must be str, bytes or bytearray, \u001b[39m\u001b[38;5;124m'\u001b[39m\n\u001b[1;32m    340\u001b[0m                         \u001b[38;5;124mf\u001b[39m\u001b[38;5;124m'\u001b[39m\u001b[38;5;124mnot \u001b[39m\u001b[38;5;132;01m{\u001b[39;00ms\u001b[38;5;241m.\u001b[39m\u001b[38;5;18m__class__\u001b[39m\u001b[38;5;241m.\u001b[39m\u001b[38;5;18m__name__\u001b[39m\u001b[38;5;132;01m}\u001b[39;00m\u001b[38;5;124m'\u001b[39m)\n\u001b[1;32m    341\u001b[0m     s \u001b[38;5;241m=\u001b[39m s\u001b[38;5;241m.\u001b[39mdecode(detect_encoding(s), \u001b[38;5;124m'\u001b[39m\u001b[38;5;124msurrogatepass\u001b[39m\u001b[38;5;124m'\u001b[39m)\n\u001b[1;32m    343\u001b[0m \u001b[38;5;28;01mif\u001b[39;00m (\u001b[38;5;28mcls\u001b[39m \u001b[38;5;129;01mis\u001b[39;00m \u001b[38;5;28;01mNone\u001b[39;00m \u001b[38;5;129;01mand\u001b[39;00m object_hook \u001b[38;5;129;01mis\u001b[39;00m \u001b[38;5;28;01mNone\u001b[39;00m \u001b[38;5;129;01mand\u001b[39;00m\n\u001b[1;32m    344\u001b[0m         parse_int \u001b[38;5;129;01mis\u001b[39;00m \u001b[38;5;28;01mNone\u001b[39;00m \u001b[38;5;129;01mand\u001b[39;00m parse_float \u001b[38;5;129;01mis\u001b[39;00m \u001b[38;5;28;01mNone\u001b[39;00m \u001b[38;5;129;01mand\u001b[39;00m\n\u001b[1;32m    345\u001b[0m         parse_constant \u001b[38;5;129;01mis\u001b[39;00m \u001b[38;5;28;01mNone\u001b[39;00m \u001b[38;5;129;01mand\u001b[39;00m object_pairs_hook \u001b[38;5;129;01mis\u001b[39;00m \u001b[38;5;28;01mNone\u001b[39;00m \u001b[38;5;129;01mand\u001b[39;00m \u001b[38;5;129;01mnot\u001b[39;00m kw):\n",
      "\u001b[0;31mTypeError\u001b[0m: the JSON object must be str, bytes or bytearray, not SList"
     ]
    }
   ],
   "source": [
    "\n",
    "res=!curl -s -H \"Content-Type: application/json\" \\\n",
    "    -d  \\\n",
    "\n",
    "j=json.loads(res[0])\n",
    "\n",
    "print(j)\n",
    "\n",
    "assert(j[\"data\"][\"tensor\"][\"values\"][1]>0.0)"
   ]
  },
  {
   "cell_type": "markdown",
   "metadata": {},
   "source": [
    "jsonData sent as form-data"
   ]
  },
  {
   "cell_type": "code",
   "execution_count": 12,
   "metadata": {},
   "outputs": [
    {
     "name": "stdout",
     "output_type": "stream",
     "text": [
      "{'data': {'names': ['t:0', 't:1', 't:2'], 'tensor': {'shape': [1, 3], 'values': [0.0011707012599976396, 0.7876686831680301, 0.21116061557197244]}}, 'meta': {}}\n"
     ]
    }
   ],
   "source": [
    "res=!curl -s -H 'Content-Type:multipart/form-data' \\\n",
    "    -F jsonData='{\"some_data\": {\"names\": [\"sepal_length\",\"sepal_width\",\"petal_length\",\"petal_width\"],\"some_ndarray\": [[7.233,4.652,7.39,0.324]]}}' \\\n",
    "    \"http://localhost:8003/seldon/seldon/seldon-deployment-example/api/v0.1/predictions\"\n",
    "j=json.loads(res[0])\n",
    "print(j)\n",
    "assert(j[\"data\"][\"tensor\"][\"values\"][1]>0.0)"
   ]
  },
  {
   "cell_type": "code",
   "execution_count": 13,
   "metadata": {},
   "outputs": [
    {
     "name": "stdout",
     "output_type": "stream",
     "text": [
      "seldondeployment.machinelearning.seldon.io \"seldon-deployment-example\" deleted\n"
     ]
    }
   ],
   "source": [
    "!kubectl delete -f sklearn_iris_jsondata_deployment.yaml"
   ]
  }
 ],
 "metadata": {
  "kernelspec": {
   "display_name": "sklearn_iris_jsondata",
   "language": "python",
   "name": "sklearn_iris_jsondata"
  },
  "language_info": {
   "codemirror_mode": {
    "name": "ipython",
    "version": 3
   },
   "file_extension": ".py",
   "mimetype": "text/x-python",
   "name": "python",
   "nbconvert_exporter": "python",
   "pygments_lexer": "ipython3",
   "version": "3.9.13"
  },
  "varInspector": {
   "cols": {
    "lenName": 16,
    "lenType": 16,
    "lenVar": 40
   },
   "kernels_config": {
    "python": {
     "delete_cmd_postfix": "",
     "delete_cmd_prefix": "del ",
     "library": "var_list.py",
     "varRefreshCmd": "print(var_dic_list())"
    },
    "r": {
     "delete_cmd_postfix": ") ",
     "delete_cmd_prefix": "rm(",
     "library": "var_list.r",
     "varRefreshCmd": "cat(var_dic_list()) "
    }
   },
   "types_to_exclude": [
    "module",
    "function",
    "builtin_function_or_method",
    "instance",
    "_Feature"
   ],
   "window_display": false
  }
 },
 "nbformat": 4,
 "nbformat_minor": 4
}
