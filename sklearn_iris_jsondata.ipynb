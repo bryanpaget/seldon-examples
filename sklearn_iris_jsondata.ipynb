{
 "cells": [
  {
   "cell_type": "markdown",
   "metadata": {},
   "source": [
    "# Scikit-Learn IRIS Model using jsonData\n",
    "\n",
    "**Goal**: Wrap a scikit-learn python model for use as a prediction microservice in seldon-core\n",
    "\n",
    "#### Steps\n",
    "\n",
    "1. Run locally on Docker to test\n",
    "2. Deploy on seldon-core running on a kubernetes cluster\n",
    "\n",
    "#### Issues\n",
    "\n",
    "1. User has to write variable names multiple times... very error prone.\n",
    "2. Wish there was f-strings for YAML cells."
   ]
  },
  {
   "cell_type": "markdown",
   "metadata": {},
   "source": [
    "#### Setup Python"
   ]
  },
  {
   "cell_type": "code",
   "execution_count": 124,
   "metadata": {
    "execution": {
     "iopub.execute_input": "2023-04-27T15:57:57.958799Z",
     "iopub.status.busy": "2023-04-27T15:57:57.957866Z",
     "iopub.status.idle": "2023-04-27T15:57:57.964285Z",
     "shell.execute_reply": "2023-04-27T15:57:57.963484Z",
     "shell.execute_reply.started": "2023-04-27T15:57:57.958767Z"
    },
    "scrolled": true,
    "tags": []
   },
   "outputs": [
    {
     "name": "stdout",
     "output_type": "stream",
     "text": [
      "Overwriting requirements.txt\n"
     ]
    }
   ],
   "source": [
    "%%writefile requirements.txt\n",
    "scikit-learn\n",
    "dill\n",
    "pandas\n",
    "sklearn\n",
    "seldon-core\n",
    "requests\n",
    "matplotlib"
   ]
  },
  {
   "cell_type": "code",
   "execution_count": 6,
   "metadata": {
    "execution": {
     "iopub.execute_input": "2023-04-27T13:58:18.412667Z",
     "iopub.status.busy": "2023-04-27T13:58:18.411840Z",
     "iopub.status.idle": "2023-04-27T13:58:19.144219Z",
     "shell.execute_reply": "2023-04-27T13:58:19.143136Z",
     "shell.execute_reply.started": "2023-04-27T13:58:18.412630Z"
    },
    "tags": []
   },
   "outputs": [],
   "source": [
    "!if [ ! -d \"./venv\" ]; then python -m venv venv; fi"
   ]
  },
  {
   "cell_type": "code",
   "execution_count": 7,
   "metadata": {
    "execution": {
     "iopub.execute_input": "2023-04-27T13:58:19.302968Z",
     "iopub.status.busy": "2023-04-27T13:58:19.302445Z",
     "iopub.status.idle": "2023-04-27T13:58:20.355237Z",
     "shell.execute_reply": "2023-04-27T13:58:20.353560Z",
     "shell.execute_reply.started": "2023-04-27T13:58:19.302929Z"
    },
    "tags": []
   },
   "outputs": [],
   "source": [
    "!source ./venv/bin/activate"
   ]
  },
  {
   "cell_type": "code",
   "execution_count": 8,
   "metadata": {
    "execution": {
     "iopub.execute_input": "2023-04-27T13:58:20.713063Z",
     "iopub.status.busy": "2023-04-27T13:58:20.712216Z",
     "iopub.status.idle": "2023-04-27T13:58:21.461588Z",
     "shell.execute_reply": "2023-04-27T13:58:21.460429Z",
     "shell.execute_reply.started": "2023-04-27T13:58:20.713016Z"
    },
    "tags": []
   },
   "outputs": [],
   "source": [
    "!if [ ! -d \"/home/jovyan/.config/pip\" ]; then mkdir /home/jovyan/.config/pip; fi"
   ]
  },
  {
   "cell_type": "code",
   "execution_count": 9,
   "metadata": {
    "execution": {
     "iopub.execute_input": "2023-04-27T13:58:21.463776Z",
     "iopub.status.busy": "2023-04-27T13:58:21.463360Z",
     "iopub.status.idle": "2023-04-27T13:58:21.469135Z",
     "shell.execute_reply": "2023-04-27T13:58:21.468420Z",
     "shell.execute_reply.started": "2023-04-27T13:58:21.463740Z"
    },
    "tags": []
   },
   "outputs": [
    {
     "name": "stdout",
     "output_type": "stream",
     "text": [
      "Overwriting /home/jovyan/.config/pip/pip.conf\n"
     ]
    }
   ],
   "source": [
    "%%writefile /home/jovyan/.config/pip/pip.conf\n",
    "[global]\n",
    "index-url = https://jfrog.aaw.cloud.statcan.ca/artifactory/api/pypi/pypi-remote/simple"
   ]
  },
  {
   "cell_type": "code",
   "execution_count": 125,
   "metadata": {
    "execution": {
     "iopub.execute_input": "2023-04-27T15:58:01.566928Z",
     "iopub.status.busy": "2023-04-27T15:58:01.566106Z",
     "iopub.status.idle": "2023-04-27T15:58:05.178871Z",
     "shell.execute_reply": "2023-04-27T15:58:05.177536Z",
     "shell.execute_reply.started": "2023-04-27T15:58:01.566896Z"
    },
    "tags": []
   },
   "outputs": [],
   "source": [
    "%%capture\n",
    "!pip install -r requirements.txt"
   ]
  },
  {
   "cell_type": "code",
   "execution_count": 12,
   "metadata": {
    "execution": {
     "iopub.execute_input": "2023-04-27T13:58:48.714311Z",
     "iopub.status.busy": "2023-04-27T13:58:48.713884Z",
     "iopub.status.idle": "2023-04-27T13:58:50.178610Z",
     "shell.execute_reply": "2023-04-27T13:58:50.177586Z",
     "shell.execute_reply.started": "2023-04-27T13:58:48.714273Z"
    },
    "tags": []
   },
   "outputs": [
    {
     "name": "stdout",
     "output_type": "stream",
     "text": [
      "Installed kernelspec sklearn_iris_jsondata in /etc/share/jupyter/kernels/sklearn_iris_jsondata\n"
     ]
    }
   ],
   "source": [
    "!python -m ipykernel install --user --name=sklearn_iris_jsondata"
   ]
  },
  {
   "cell_type": "code",
   "execution_count": 129,
   "metadata": {
    "execution": {
     "iopub.execute_input": "2023-04-27T15:58:43.902715Z",
     "iopub.status.busy": "2023-04-27T15:58:43.901670Z",
     "iopub.status.idle": "2023-04-27T15:58:43.906588Z",
     "shell.execute_reply": "2023-04-27T15:58:43.905572Z",
     "shell.execute_reply.started": "2023-04-27T15:58:43.902678Z"
    },
    "tags": []
   },
   "outputs": [],
   "source": [
    "import json\n",
    "import requests\n",
    "import pandas as pd\n",
    "import matplotlib.pyplot as plt"
   ]
  },
  {
   "cell_type": "markdown",
   "metadata": {},
   "source": [
    "#### Create a seldon config file to deploy the containerized image you just created"
   ]
  },
  {
   "cell_type": "code",
   "execution_count": 74,
   "metadata": {
    "execution": {
     "iopub.execute_input": "2023-04-27T14:48:15.600923Z",
     "iopub.status.busy": "2023-04-27T14:48:15.600036Z",
     "iopub.status.idle": "2023-04-27T14:48:15.606528Z",
     "shell.execute_reply": "2023-04-27T14:48:15.605436Z",
     "shell.execute_reply.started": "2023-04-27T14:48:15.600890Z"
    },
    "tags": []
   },
   "outputs": [
    {
     "name": "stdout",
     "output_type": "stream",
     "text": [
      "Overwriting sklearn_iris_jsondata_deployment.yaml\n"
     ]
    }
   ],
   "source": [
    "%%writefile sklearn_iris_jsondata_deployment.yaml\n",
    "apiVersion: machinelearning.seldon.io/v1alpha2\n",
    "kind: SeldonDeployment\n",
    "metadata:\n",
    "  name: seldon-deployment-example\n",
    "  namespace: bryanpaget\n",
    "spec:\n",
    "  name: sklearn-iris-deployment\n",
    "  annotations:\n",
    "    sidecar.istio.io/inject: \"false\"\n",
    "  predictors:\n",
    "  - componentSpecs:\n",
    "    - spec:\n",
    "        containers:\n",
    "        - image: seldonio/sklearn-iris:0.3\n",
    "          imagePullPolicy: IfNotPresent\n",
    "          name: sklearn-iris-classifier\n",
    "    graph:\n",
    "      children: []\n",
    "      endpoint:\n",
    "        type: REST\n",
    "      name: sklearn-iris-classifier\n",
    "      type: MODEL\n",
    "    name: sklearn-iris-predictor\n",
    "    replicas: 1"
   ]
  },
  {
   "cell_type": "code",
   "execution_count": 14,
   "metadata": {
    "execution": {
     "iopub.execute_input": "2023-04-27T13:58:50.189468Z",
     "iopub.status.busy": "2023-04-27T13:58:50.188796Z",
     "iopub.status.idle": "2023-04-27T13:58:53.893779Z",
     "shell.execute_reply": "2023-04-27T13:58:53.892661Z",
     "shell.execute_reply.started": "2023-04-27T13:58:50.189441Z"
    },
    "tags": []
   },
   "outputs": [
    {
     "name": "stdout",
     "output_type": "stream",
     "text": [
      "Error from server (AlreadyExists): error when creating \"sklearn_iris_jsondata_deployment.yaml\": seldondeployments.machinelearning.seldon.io \"seldon-deployment-example\" already exists\n"
     ]
    }
   ],
   "source": [
    "!kubectl create -f sklearn_iris_jsondata_deployment.yaml"
   ]
  },
  {
   "cell_type": "code",
   "execution_count": 15,
   "metadata": {
    "execution": {
     "iopub.execute_input": "2023-04-27T13:58:53.896155Z",
     "iopub.status.busy": "2023-04-27T13:58:53.895313Z",
     "iopub.status.idle": "2023-04-27T13:58:55.209852Z",
     "shell.execute_reply": "2023-04-27T13:58:55.208787Z",
     "shell.execute_reply.started": "2023-04-27T13:58:53.896117Z"
    },
    "tags": []
   },
   "outputs": [
    {
     "name": "stdout",
     "output_type": "stream",
     "text": [
      "deployment \"seldon-92a927e5e90d7602e08ba9b9304f70e8\" successfully rolled out\n"
     ]
    }
   ],
   "source": [
    "!kubectl rollout status deploy $(kubectl get deploy -l seldon-deployment-id=seldon-deployment-example -o jsonpath='{.items[0].metadata.name}')"
   ]
  },
  {
   "cell_type": "markdown",
   "metadata": {},
   "source": [
    "### Test by sending prediction calls"
   ]
  },
  {
   "cell_type": "markdown",
   "metadata": {},
   "source": [
    "#### Is the service available?"
   ]
  },
  {
   "cell_type": "code",
   "execution_count": 16,
   "metadata": {
    "execution": {
     "iopub.execute_input": "2023-04-27T13:58:55.211582Z",
     "iopub.status.busy": "2023-04-27T13:58:55.211279Z",
     "iopub.status.idle": "2023-04-27T13:58:55.435452Z",
     "shell.execute_reply": "2023-04-27T13:58:55.434211Z",
     "shell.execute_reply.started": "2023-04-27T13:58:55.211552Z"
    },
    "tags": []
   },
   "outputs": [
    {
     "name": "stdout",
     "output_type": "stream",
     "text": [
      "Available\n"
     ]
    }
   ],
   "source": [
    "for i in range(60):\n",
    "    state = !kubectl get sdep seldon-deployment-example -o jsonpath='{.status.state}'\n",
    "    state = state[0]\n",
    "    print(state)\n",
    "    if state == \"Available\":\n",
    "        break\n",
    "    time.sleep(1)\n",
    "assert state == \"Available\""
   ]
  },
  {
   "cell_type": "code",
   "execution_count": 150,
   "metadata": {
    "execution": {
     "iopub.execute_input": "2023-04-27T16:05:03.253143Z",
     "iopub.status.busy": "2023-04-27T16:05:03.252208Z",
     "iopub.status.idle": "2023-04-27T16:05:03.304174Z",
     "shell.execute_reply": "2023-04-27T16:05:03.303066Z",
     "shell.execute_reply.started": "2023-04-27T16:05:03.253106Z"
    },
    "tags": []
   },
   "outputs": [],
   "source": [
    "res =! curl -v seldon-deployment-example-sklearn-iris-predictor.bryanpaget.svc.cluster.local:8000/api/v0.1/predictions \\\n",
    "   -H 'Content-Type: application/json' \\\n",
    "   -d '{\"data\": {\"ndarray\": [[15.964, 1.006, 2.081, 1.031]]}}'"
   ]
  },
  {
   "cell_type": "code",
   "execution_count": 151,
   "metadata": {
    "execution": {
     "iopub.execute_input": "2023-04-27T16:05:03.594132Z",
     "iopub.status.busy": "2023-04-27T16:05:03.593539Z",
     "iopub.status.idle": "2023-04-27T16:05:03.600395Z",
     "shell.execute_reply": "2023-04-27T16:05:03.599596Z",
     "shell.execute_reply.started": "2023-04-27T16:05:03.594090Z"
    },
    "tags": []
   },
   "outputs": [
    {
     "name": "stdout",
     "output_type": "stream",
     "text": [
      "{\n",
      "    \"data\": {\n",
      "        \"names\": [\n",
      "            \"t:0\",\n",
      "            \"t:1\",\n",
      "            \"t:2\"\n",
      "        ],\n",
      "        \"ndarray\": [\n",
      "            [\n",
      "                0.48143974601236916,\n",
      "                0.5185602538736087,\n",
      "                1.1402208742877527e-10\n",
      "            ]\n",
      "        ]\n",
      "    },\n",
      "    \"meta\": {\n",
      "        \"requestPath\": {\n",
      "            \"sklearn-iris-classifier\": \"seldonio/sklearn-iris:0.3\"\n",
      "        }\n",
      "    }\n",
      "}\n"
     ]
    }
   ],
   "source": [
    "parsed = json.loads(res[-1])\n",
    "print(json.dumps(parsed, indent=4, sort_keys=True))"
   ]
  },
  {
   "cell_type": "code",
   "execution_count": 152,
   "metadata": {
    "execution": {
     "iopub.execute_input": "2023-04-27T16:05:04.188096Z",
     "iopub.status.busy": "2023-04-27T16:05:04.187614Z",
     "iopub.status.idle": "2023-04-27T16:05:04.541870Z",
     "shell.execute_reply": "2023-04-27T16:05:04.540936Z",
     "shell.execute_reply.started": "2023-04-27T16:05:04.188045Z"
    },
    "tags": []
   },
   "outputs": [
    {
     "data": {
      "image/png": "[encoded data removed]",
      "text/plain": [
       "<Figure size 640x480 with 1 Axes>"
      ]
     },
     "metadata": {},
     "output_type": "display_data"
    }
   ],
   "source": [
    "def display_iris_classifier_results(res):\n",
    "    results = res[-1]\n",
    "    results = json.loads(results)\n",
    "    names = results[\"data\"][\"names\"]\n",
    "    predictions = results[\"data\"][\"ndarray\"][0]\n",
    "    model = results[\"meta\"][\"requestPath\"]\n",
    "\n",
    "    df = pd.DataFrame({\"x\": names, \"y\": predictions})\n",
    "\n",
    "    plt.bar(x=names, height=predictions)\n",
    "    plt.show()\n",
    "\n",
    "display_iris_classifier_results(res)"
   ]
  },
  {
   "cell_type": "code",
   "execution_count": 153,
   "metadata": {
    "execution": {
     "iopub.execute_input": "2023-04-27T16:05:04.750111Z",
     "iopub.status.busy": "2023-04-27T16:05:04.749559Z",
     "iopub.status.idle": "2023-04-27T16:05:07.723921Z",
     "shell.execute_reply": "2023-04-27T16:05:07.722248Z",
     "shell.execute_reply.started": "2023-04-27T16:05:04.750073Z"
    },
    "tags": []
   },
   "outputs": [
    {
     "name": "stdout",
     "output_type": "stream",
     "text": [
      "seldondeployment.machinelearning.seldon.io \"seldon-deployment-example\" deleted\n"
     ]
    }
   ],
   "source": [
    "!kubectl delete -f sklearn_iris_jsondata_deployment.yaml"
   ]
  }
 ],
 "metadata": {
  "kernelspec": {
   "display_name": "sklearn_iris_jsondata",
   "language": "python",
   "name": "sklearn_iris_jsondata"
  },
  "language_info": {
   "codemirror_mode": {
    "name": "ipython",
    "version": 3
   },
   "file_extension": ".py",
   "mimetype": "text/x-python",
   "name": "python",
   "nbconvert_exporter": "python",
   "pygments_lexer": "ipython3",
   "version": "3.9.13"
  },
  "varInspector": {
   "cols": {
    "lenName": 16,
    "lenType": 16,
    "lenVar": 40
   },
   "kernels_config": {
    "python": {
     "delete_cmd_postfix": "",
     "delete_cmd_prefix": "del ",
     "library": "var_list.py",
     "varRefreshCmd": "print(var_dic_list())"
    },
    "r": {
     "delete_cmd_postfix": ") ",
     "delete_cmd_prefix": "rm(",
     "library": "var_list.r",
     "varRefreshCmd": "cat(var_dic_list()) "
    }
   },
   "types_to_exclude": [
    "module",
    "function",
    "builtin_function_or_method",
    "instance",
    "_Feature"
   ],
   "window_display": false
  }
 },
 "nbformat": 4,
 "nbformat_minor": 4
}
